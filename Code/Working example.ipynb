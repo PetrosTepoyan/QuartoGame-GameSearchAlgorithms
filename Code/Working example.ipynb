{
 "cells": [
  {
   "cell_type": "code",
   "execution_count": 21,
   "metadata": {},
   "outputs": [],
   "source": [
    "from board import Board\n",
    "from boardTerminalTest import BoardTerminalTest\n",
    "from turn import Turn, TurnStage\n",
    "from search import AlphaBetaSearch\n",
    "from player import Player\n",
    "from piece import *\n",
    "import numpy as np\n",
    "from numba import jit\n",
    "import sys"
   ]
  },
  {
   "cell_type": "code",
   "execution_count": 22,
   "metadata": {},
   "outputs": [
    {
     "name": "stdout",
     "output_type": "stream",
     "text": [
      "Piece to place BB□\n",
      "    A    B    C    D\n",
      " 1 WS■  WB●   .   BS□  \n",
      " 2 BB■  BS●  WB■  BS○  \n",
      " 3  .    .    .   BS■  \n",
      " 4 WS○  BB●   .   WB□  \n",
      "\n",
      "\n",
      "\n"
     ]
    }
   ],
   "source": [
    "# # Works correctly\n",
    "grid = np.array([[ 5,  8, -1,  9],\n",
    "                 [ 3,  2,  7, 10],\n",
    "                 [-1, -1, -1,  1],\n",
    "                 [14,  4, -1, 15]])\n",
    "\n",
    "game_turn = Turn(player = Player.MIN, placingStage = TurnStage(11, None))\n",
    "board = Board(grid = grid, game_turn = game_turn)\n",
    "terminalTest = BoardTerminalTest()\n",
    "print(board)\n"
   ]
  },
  {
   "cell_type": "code",
   "execution_count": 23,
   "metadata": {},
   "outputs": [
    {
     "data": {
      "text/plain": [
       "Place BB□ to (2, 0) and choose WS□"
      ]
     },
     "execution_count": 23,
     "metadata": {},
     "output_type": "execute_result"
    }
   ],
   "source": [
    "search = AlphaBetaSearch(optimized = True)\n",
    "strategy = search.find_strategy(board, terminalTest)"
   ]
  },
  {
   "cell_type": "code",
   "execution_count": 51,
   "metadata": {},
   "outputs": [
    {
     "data": {
      "text/plain": [
       "Piece to place No piece to place\n",
       "    A    B    C    D\n",
       " 1 WS■  WB●  BB□  BS□  \n",
       " 2 BB■  BS●  WB■  BS○  \n",
       " 3 WB○  WS□  WS●  BS■  \n",
       " 4 WS○  BB●  BB○  WB□  \n",
       "\n"
      ]
     },
     "execution_count": 51,
     "metadata": {},
     "output_type": "execute_result"
    }
   ],
   "source": [
    "action1 = strategy[board]\n",
    "\n",
    "board1 = board.get_action_result(action1)\n",
    "action2 = strategy[board1]\n",
    "\n",
    "board2 = board1.get_action_result(action2)\n",
    "action3 = strategy[board2]\n",
    "\n",
    "board3 = board2.get_action_result(action3)\n",
    "action4 = strategy[board3]\n",
    "\n",
    "board4 = board3.get_action_result(action4)\n",
    "action5 = strategy[board4]\n",
    "\n",
    "board5 = board4.get_action_result(action5)\n",
    "board5"
   ]
  },
  {
   "cell_type": "code",
   "execution_count": 59,
   "metadata": {},
   "outputs": [
    {
     "name": "stdout",
     "output_type": "stream",
     "text": [
      "Place BB□ to (2, 0) and choose WS□\n",
      "Place WS□ to (1, 2) and choose BB○\n",
      "Place BB○ to (2, 3) and choose WS●\n",
      "Place WS● to (2, 2) and choose WB○\n",
      "Place WB○ to (0, 2) and choose No piece to place\n"
     ]
    }
   ],
   "source": [
    "print(action1, action2, action3, action4, action5, sep='\\n')"
   ]
  },
  {
   "cell_type": "code",
   "execution_count": 76,
   "metadata": {},
   "outputs": [
    {
     "ename": "KeyError",
     "evalue": "Piece to place WS●\n    A    B    C    D\n 1 WS■  WB●  BB□  BS□  \n 2 BB■  BS●  WB■  BS○  \n 3  .   WS□   .   BS■  \n 4 WS○  BB●  BB○  WB□  \n\n\n",
     "output_type": "error",
     "traceback": [
      "\u001b[0;31m---------------------------------------------------------------------------\u001b[0m",
      "\u001b[0;31mKeyError\u001b[0m                                  Traceback (most recent call last)",
      "\u001b[0;32m<ipython-input-76-4000bbb26bb3>\u001b[0m in \u001b[0;36m<module>\u001b[0;34m\u001b[0m\n\u001b[0;32m----> 1\u001b[0;31m \u001b[0msearch\u001b[0m\u001b[0;34m.\u001b[0m\u001b[0mstate_utilities\u001b[0m\u001b[0;34m[\u001b[0m\u001b[0mboard3\u001b[0m\u001b[0;34m]\u001b[0m\u001b[0;34m\u001b[0m\u001b[0;34m\u001b[0m\u001b[0m\n\u001b[0m",
      "\u001b[0;31mKeyError\u001b[0m: Piece to place WS●\n    A    B    C    D\n 1 WS■  WB●  BB□  BS□  \n 2 BB■  BS●  WB■  BS○  \n 3  .   WS□   .   BS■  \n 4 WS○  BB●  BB○  WB□  \n\n\n"
     ]
    }
   ],
   "source": [
    "search.state_utilities[board3]"
   ]
  },
  {
   "cell_type": "code",
   "execution_count": 81,
   "metadata": {},
   "outputs": [
    {
     "data": {
      "text/plain": [
       "(False, False)"
      ]
     },
     "execution_count": 81,
     "metadata": {},
     "output_type": "execute_result"
    }
   ],
   "source": [
    "board4 == board5, hash(board4) == hash(board5)"
   ]
  },
  {
   "cell_type": "code",
   "execution_count": null,
   "metadata": {},
   "outputs": [],
   "source": []
  }
 ],
 "metadata": {
  "kernelspec": {
   "display_name": "Python 3",
   "language": "python",
   "name": "python3"
  },
  "language_info": {
   "codemirror_mode": {
    "name": "ipython",
    "version": 3
   },
   "file_extension": ".py",
   "mimetype": "text/x-python",
   "name": "python",
   "nbconvert_exporter": "python",
   "pygments_lexer": "ipython3",
   "version": "3.8.3"
  }
 },
 "nbformat": 4,
 "nbformat_minor": 4
}
