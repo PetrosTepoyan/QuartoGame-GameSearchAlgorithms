{
 "cells": [
  {
   "cell_type": "code",
   "execution_count": 10,
   "metadata": {},
   "outputs": [],
   "source": [
    "from board import Board\n",
    "from boardTerminalTest import BoardTerminalTest\n",
    "from turn import Turn, TurnStage\n",
    "from search import AlphaBetaSearch, MinimaxSearch\n",
    "from player import Player\n",
    "from piece import *\n",
    "import numpy as np\n",
    "from numba import jit\n",
    "import sys"
   ]
  },
  {
   "cell_type": "code",
   "execution_count": 11,
   "metadata": {},
   "outputs": [
    {
     "name": "stdout",
     "output_type": "stream",
     "text": [
      "Piece to place BB□\n",
      "    A    B    C    D\n",
      " 1 WS■  WB●   .   BS□  \n",
      " 2 BB■  BS●  WB■  BS○  \n",
      " 3  .    .    .   BS■  \n",
      " 4 WS○  BB●  WS□  WB□  \n",
      "\n",
      "\n",
      "\n"
     ]
    }
   ],
   "source": [
    "# # Works correctly\n",
    "grid = np.array([[ 5,  8, -1,  9],\n",
    "                 [ 3,  2,  7, 10],\n",
    "                 [-1, -1, -1,  1],\n",
    "                 [14,  4, 13, 15]])\n",
    "\n",
    "game_turn = Turn(player = Player.MIN, placingStage = TurnStage(11, None))\n",
    "board = Board(grid = grid, game_turn = game_turn)\n",
    "terminalTest = BoardTerminalTest()\n",
    "print(board)\n",
    "\n"
   ]
  },
  {
   "cell_type": "code",
   "execution_count": 12,
   "metadata": {},
   "outputs": [],
   "source": [
    "search = AlphaBetaSearch(optimized = True)\n",
    "strategy = search.find_strategy(board, terminalTest)"
   ]
  },
  {
   "cell_type": "code",
   "execution_count": 13,
   "metadata": {},
   "outputs": [
    {
     "ename": "KeyError",
     "evalue": "Piece to place BB□\n    A    B    C    D\n 1 WS■  WB●   .   BS□  \n 2 BB■  BS●  WB■  BS○  \n 3  .    .    .   BS■  \n 4 WS○  BB●  WS□  WB□  \n\n\n",
     "output_type": "error",
     "traceback": [
      "\u001b[0;31m---------------------------------------------------------------------------\u001b[0m",
      "\u001b[0;31mKeyError\u001b[0m                                  Traceback (most recent call last)",
      "\u001b[0;32m<ipython-input-13-45e2daf560df>\u001b[0m in \u001b[0;36m<module>\u001b[0;34m\u001b[0m\n\u001b[0;32m----> 1\u001b[0;31m \u001b[0msearch\u001b[0m\u001b[0;34m.\u001b[0m\u001b[0mstate_utilities\u001b[0m\u001b[0;34m[\u001b[0m\u001b[0mboard\u001b[0m\u001b[0;34m]\u001b[0m\u001b[0;34m\u001b[0m\u001b[0;34m\u001b[0m\u001b[0m\n\u001b[0m",
      "\u001b[0;31mKeyError\u001b[0m: Piece to place BB□\n    A    B    C    D\n 1 WS■  WB●   .   BS□  \n 2 BB■  BS●  WB■  BS○  \n 3  .    .    .   BS■  \n 4 WS○  BB●  WS□  WB□  \n\n\n"
     ]
    }
   ],
   "source": [
    "search.state_utilities[board]"
   ]
  },
  {
   "cell_type": "code",
   "execution_count": 4,
   "metadata": {},
   "outputs": [],
   "source": [
    "action1 = strategy[board]\n",
    "board2 = board.get_action_result(action1)\n",
    "action2 = strategy[board2]\n",
    "board3 = board2.get_action_result(action2)\n",
    "action3 = strategy[board3]\n",
    "board4 = board3.get_action_result(action3)"
   ]
  },
  {
   "cell_type": "code",
   "execution_count": 7,
   "metadata": {},
   "outputs": [],
   "source": [
    "def play(board):\n",
    "    board_ = board\n",
    "    best_action = strategy[board_]\n",
    "    print(\"Best action in this case is\")\n",
    "    print(best_action)\n",
    "    board_ = board.get_action_result(best_action)\n",
    "    actions = list(board_.get_applicable_actions())\n",
    "    for i in range(len(actions)):\n",
    "        print(f\"{i} {actions[i]}\", sep = \"\\n\")\n",
    "    print()\n",
    "    selected_action_id = int(input(\"What did the opponent do? \"))\n",
    "    print()\n",
    "    board_ = board_.get_action_result(actions[selected_action_id])\n",
    "    play(board_)"
   ]
  },
  {
   "cell_type": "code",
   "execution_count": 9,
   "metadata": {},
   "outputs": [
    {
     "name": "stdout",
     "output_type": "stream",
     "text": [
      "Piece to place BB□\n",
      "    A    B    C    D\n",
      " 1 WS■  WB●   .   BS□  \n",
      " 2 BB■  BS●  WB■  BS○  \n",
      " 3  .    .    .   BS■  \n",
      " 4 WS○  BB●  WS□  WB□  \n",
      "\n",
      "\n",
      "\n",
      "Best action in this case is\n",
      "Place BB□ to (1, 2) and choose WS●\n",
      "Applicable actions:\n",
      "0 Place WS● to (2, 2) and choose BB○\n",
      "1 Place WS● to (0, 2) and choose WB○\n",
      "2 Place WS● to (2, 2) and choose WB○\n",
      "3 Place WS● to (2, 0) and choose BB○\n",
      "4 Place WS● to (2, 0) and choose WB○\n",
      "5 Place WS● to (0, 2) and choose BB○\n",
      "\n",
      "What did the opponent do? 3\n",
      "\n",
      "Best action in this case is\n",
      "Place BB○ to (2, 2) and choose WB○\n",
      "Applicable actions:\n",
      "0 Place WB○ to (0, 2) and choose No piece to place\n",
      "\n",
      "What did the opponent do? 0\n",
      "\n",
      "Best action in this case is\n",
      "None\n"
     ]
    },
    {
     "ename": "AttributeError",
     "evalue": "'NoneType' object has no attribute 'player'",
     "output_type": "error",
     "traceback": [
      "\u001b[0;31m---------------------------------------------------------------------------\u001b[0m",
      "\u001b[0;31mAttributeError\u001b[0m                            Traceback (most recent call last)",
      "\u001b[0;32m<ipython-input-9-d2f5666e0f93>\u001b[0m in \u001b[0;36m<module>\u001b[0;34m\u001b[0m\n\u001b[1;32m      1\u001b[0m \u001b[0mprint\u001b[0m\u001b[0;34m(\u001b[0m\u001b[0mboard\u001b[0m\u001b[0;34m)\u001b[0m\u001b[0;34m\u001b[0m\u001b[0;34m\u001b[0m\u001b[0m\n\u001b[0;32m----> 2\u001b[0;31m \u001b[0mplay\u001b[0m\u001b[0;34m(\u001b[0m\u001b[0mboard\u001b[0m\u001b[0;34m)\u001b[0m\u001b[0;34m\u001b[0m\u001b[0;34m\u001b[0m\u001b[0m\n\u001b[0m",
      "\u001b[0;32m<ipython-input-7-c08c2e135cf9>\u001b[0m in \u001b[0;36mplay\u001b[0;34m(board)\u001b[0m\n\u001b[1;32m     13\u001b[0m     \u001b[0mprint\u001b[0m\u001b[0;34m(\u001b[0m\u001b[0;34m)\u001b[0m\u001b[0;34m\u001b[0m\u001b[0;34m\u001b[0m\u001b[0m\n\u001b[1;32m     14\u001b[0m     \u001b[0mboard_\u001b[0m \u001b[0;34m=\u001b[0m \u001b[0mboard_\u001b[0m\u001b[0;34m.\u001b[0m\u001b[0mget_action_result\u001b[0m\u001b[0;34m(\u001b[0m\u001b[0mactions\u001b[0m\u001b[0;34m[\u001b[0m\u001b[0mselected_action_id\u001b[0m\u001b[0;34m]\u001b[0m\u001b[0;34m)\u001b[0m\u001b[0;34m\u001b[0m\u001b[0;34m\u001b[0m\u001b[0m\n\u001b[0;32m---> 15\u001b[0;31m     \u001b[0mplay\u001b[0m\u001b[0;34m(\u001b[0m\u001b[0mboard_\u001b[0m\u001b[0;34m)\u001b[0m\u001b[0;34m\u001b[0m\u001b[0;34m\u001b[0m\u001b[0m\n\u001b[0m",
      "\u001b[0;32m<ipython-input-7-c08c2e135cf9>\u001b[0m in \u001b[0;36mplay\u001b[0;34m(board)\u001b[0m\n\u001b[1;32m     13\u001b[0m     \u001b[0mprint\u001b[0m\u001b[0;34m(\u001b[0m\u001b[0;34m)\u001b[0m\u001b[0;34m\u001b[0m\u001b[0;34m\u001b[0m\u001b[0m\n\u001b[1;32m     14\u001b[0m     \u001b[0mboard_\u001b[0m \u001b[0;34m=\u001b[0m \u001b[0mboard_\u001b[0m\u001b[0;34m.\u001b[0m\u001b[0mget_action_result\u001b[0m\u001b[0;34m(\u001b[0m\u001b[0mactions\u001b[0m\u001b[0;34m[\u001b[0m\u001b[0mselected_action_id\u001b[0m\u001b[0;34m]\u001b[0m\u001b[0;34m)\u001b[0m\u001b[0;34m\u001b[0m\u001b[0;34m\u001b[0m\u001b[0m\n\u001b[0;32m---> 15\u001b[0;31m     \u001b[0mplay\u001b[0m\u001b[0;34m(\u001b[0m\u001b[0mboard_\u001b[0m\u001b[0;34m)\u001b[0m\u001b[0;34m\u001b[0m\u001b[0;34m\u001b[0m\u001b[0m\n\u001b[0m",
      "\u001b[0;32m<ipython-input-7-c08c2e135cf9>\u001b[0m in \u001b[0;36mplay\u001b[0;34m(board)\u001b[0m\n\u001b[1;32m      4\u001b[0m     \u001b[0mprint\u001b[0m\u001b[0;34m(\u001b[0m\u001b[0;34m\"Best action in this case is\"\u001b[0m\u001b[0;34m)\u001b[0m\u001b[0;34m\u001b[0m\u001b[0;34m\u001b[0m\u001b[0m\n\u001b[1;32m      5\u001b[0m     \u001b[0mprint\u001b[0m\u001b[0;34m(\u001b[0m\u001b[0mbest_action\u001b[0m\u001b[0;34m)\u001b[0m\u001b[0;34m\u001b[0m\u001b[0;34m\u001b[0m\u001b[0m\n\u001b[0;32m----> 6\u001b[0;31m     \u001b[0mboard_\u001b[0m \u001b[0;34m=\u001b[0m \u001b[0mboard\u001b[0m\u001b[0;34m.\u001b[0m\u001b[0mget_action_result\u001b[0m\u001b[0;34m(\u001b[0m\u001b[0mbest_action\u001b[0m\u001b[0;34m)\u001b[0m\u001b[0;34m\u001b[0m\u001b[0;34m\u001b[0m\u001b[0m\n\u001b[0m\u001b[1;32m      7\u001b[0m     \u001b[0mactions\u001b[0m \u001b[0;34m=\u001b[0m \u001b[0mlist\u001b[0m\u001b[0;34m(\u001b[0m\u001b[0mboard_\u001b[0m\u001b[0;34m.\u001b[0m\u001b[0mget_applicable_actions\u001b[0m\u001b[0;34m(\u001b[0m\u001b[0;34m)\u001b[0m\u001b[0;34m)\u001b[0m\u001b[0;34m\u001b[0m\u001b[0;34m\u001b[0m\u001b[0m\n\u001b[1;32m      8\u001b[0m     \u001b[0mprint\u001b[0m\u001b[0;34m(\u001b[0m\u001b[0;34m\"Applicable actions:\"\u001b[0m\u001b[0;34m)\u001b[0m\u001b[0;34m\u001b[0m\u001b[0;34m\u001b[0m\u001b[0m\n",
      "\u001b[0;32m~/Desktop/Education/AI/GroupProject/QuartoGame-GameSearchAlgorithms/Code/board.py\u001b[0m in \u001b[0;36mget_action_result\u001b[0;34m(self, turn)\u001b[0m\n\u001b[1;32m    103\u001b[0m         \u001b[0mnew_grid\u001b[0m \u001b[0;34m=\u001b[0m \u001b[0mcopy\u001b[0m\u001b[0;34m.\u001b[0m\u001b[0mdeepcopy\u001b[0m\u001b[0;34m(\u001b[0m\u001b[0mself\u001b[0m\u001b[0;34m.\u001b[0m\u001b[0mgrid\u001b[0m\u001b[0;34m)\u001b[0m\u001b[0;34m\u001b[0m\u001b[0;34m\u001b[0m\u001b[0m\n\u001b[1;32m    104\u001b[0m \u001b[0;34m\u001b[0m\u001b[0m\n\u001b[0;32m--> 105\u001b[0;31m         \u001b[0mnext_game_turn\u001b[0m \u001b[0;34m=\u001b[0m \u001b[0mTurn\u001b[0m\u001b[0;34m(\u001b[0m\u001b[0mplayer\u001b[0m \u001b[0;34m=\u001b[0m \u001b[0mturn\u001b[0m\u001b[0;34m.\u001b[0m\u001b[0mplayer\u001b[0m\u001b[0;34m,\u001b[0m \u001b[0mplacingStage\u001b[0m \u001b[0;34m=\u001b[0m \u001b[0mturn\u001b[0m\u001b[0;34m.\u001b[0m\u001b[0mchoosingStage\u001b[0m\u001b[0;34m,\u001b[0m \u001b[0mchoosingStage\u001b[0m \u001b[0;34m=\u001b[0m \u001b[0;32mNone\u001b[0m\u001b[0;34m)\u001b[0m\u001b[0;34m\u001b[0m\u001b[0;34m\u001b[0m\u001b[0m\n\u001b[0m\u001b[1;32m    106\u001b[0m \u001b[0;34m\u001b[0m\u001b[0m\n\u001b[1;32m    107\u001b[0m         \u001b[0;32mif\u001b[0m \u001b[0mturn\u001b[0m\u001b[0;34m.\u001b[0m\u001b[0mplacingStage\u001b[0m\u001b[0;34m:\u001b[0m\u001b[0;34m\u001b[0m\u001b[0;34m\u001b[0m\u001b[0m\n",
      "\u001b[0;31mAttributeError\u001b[0m: 'NoneType' object has no attribute 'player'"
     ]
    }
   ],
   "source": [
    "print(board)\n",
    "play(board)"
   ]
  },
  {
   "cell_type": "code",
   "execution_count": null,
   "metadata": {},
   "outputs": [],
   "source": []
  }
 ],
 "metadata": {
  "kernelspec": {
   "display_name": "Python 3",
   "language": "python",
   "name": "python3"
  },
  "language_info": {
   "codemirror_mode": {
    "name": "ipython",
    "version": 3
   },
   "file_extension": ".py",
   "mimetype": "text/x-python",
   "name": "python",
   "nbconvert_exporter": "python",
   "pygments_lexer": "ipython3",
   "version": "3.8.3"
  }
 },
 "nbformat": 4,
 "nbformat_minor": 4
}
