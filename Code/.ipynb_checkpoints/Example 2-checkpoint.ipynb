{
 "cells": [
  {
   "cell_type": "code",
   "execution_count": 1,
   "metadata": {},
   "outputs": [],
   "source": [
    "from board import Board\n",
    "from boardTerminalTest import BoardTerminalTest\n",
    "from turn import Turn, TurnStage\n",
    "from search import AlphaBetaSearch, MinimaxSearch\n",
    "from player import Player\n",
    "from piece import *\n",
    "import numpy as np\n",
    "import sys"
   ]
  },
  {
   "cell_type": "code",
   "execution_count": 40,
   "metadata": {},
   "outputs": [
    {
     "data": {
      "text/plain": [
       "6"
      ]
     },
     "execution_count": 40,
     "metadata": {},
     "output_type": "execute_result"
    }
   ],
   "source": []
  },
  {
   "cell_type": "code",
   "execution_count": 18,
   "metadata": {},
   "outputs": [
    {
     "name": "stdout",
     "output_type": "stream",
     "text": [
      "Piece to place BB□\n",
      "    A    B    C    D\n",
      " 1 WS■  WB●   .    .   \n",
      " 2 BB■   .   WB■  BS○  \n",
      " 3  .    .    .   BS■  \n",
      " 4 WS○  BB●  WS□  WB□  \n",
      "\n",
      "\n",
      "\n"
     ]
    }
   ],
   "source": [
    "# # Works correctly\n",
    "grid = np.array([[ 5,  8, -1,  -1],\n",
    "                 [ 3,  -1,  7, 10],\n",
    "                 [-1, -1, -1,  1],\n",
    "                 [14,  4, 13, 15]])\n",
    "\n",
    "game_turn = Turn(player = Player.MIN, placingStage = TurnStage(11, None))\n",
    "board = Board(grid = grid, game_turn = game_turn)\n",
    "terminalTest = BoardTerminalTest()\n",
    "print(board)\n",
    "\n"
   ]
  },
  {
   "cell_type": "code",
   "execution_count": 19,
   "metadata": {},
   "outputs": [],
   "source": [
    "search = AlphaBetaSearch(optimized = True)\n",
    "strategy = search.find_strategy(board, terminalTest)"
   ]
  },
  {
   "cell_type": "code",
   "execution_count": 21,
   "metadata": {},
   "outputs": [],
   "source": [
    "ut = search.state_utilities"
   ]
  },
  {
   "cell_type": "code",
   "execution_count": 46,
   "metadata": {},
   "outputs": [],
   "source": [
    "k = list(ut.keys())\n",
    "v = list(ut.values())\n",
    "pred_ut = [i[0] for i in ut.items() if i[1] != 0]\n",
    "good = [g for g in pred_ut if sum(sum(g.grid == -1)) == 4]"
   ]
  },
  {
   "cell_type": "code",
   "execution_count": 13,
   "metadata": {},
   "outputs": [],
   "source": [
    "action1 = strategy[board]\n",
    "board2 = board.get_action_result(action1)\n",
    "action2 = strategy[board2]\n",
    "board3 = board2.get_action_result(action2)\n",
    "action3 = strategy[board3]\n",
    "board4 = board3.get_action_result(action3)"
   ]
  },
  {
   "cell_type": "code",
   "execution_count": 63,
   "metadata": {},
   "outputs": [
    {
     "data": {
      "text/plain": [
       "<Player.MIN: 2>"
      ]
     },
     "execution_count": 63,
     "metadata": {},
     "output_type": "execute_result"
    }
   ],
   "source": []
  },
  {
   "cell_type": "code",
   "execution_count": null,
   "metadata": {},
   "outputs": [
    {
     "name": "stdout",
     "output_type": "stream",
     "text": [
      "Piece to place WS●\n",
      "    A    B    C    D\n",
      " 1 WS■  WB●   .    .   \n",
      " 2 BB■  BB□  WB■  BS○  \n",
      " 3  .   BS●   .   BS■  \n",
      " 4 WS○  BB●  WS□  WB□  \n",
      "\n",
      "\n",
      "\n",
      "Best action in this case is\n",
      "Place WS● to (2, 0) and choose BB○\n",
      "0 Place BB○ to (3, 0) and choose BS□\n",
      "1 Place BB○ to (0, 2) and choose BS□\n",
      "2 Place BB○ to (3, 0) and choose WB○\n",
      "3 Place BB○ to (2, 2) and choose BS□\n",
      "4 Place BB○ to (0, 2) and choose WB○\n",
      "5 Place BB○ to (2, 2) and choose WB○\n",
      "\n"
     ]
    }
   ],
   "source": [
    "print(good[0])\n",
    "play(good[0])"
   ]
  },
  {
   "cell_type": "code",
   "execution_count": 54,
   "metadata": {},
   "outputs": [],
   "source": [
    "def play(board):\n",
    "    board_ = board\n",
    "    best_action = strategy[board_]\n",
    "    print(\"Best action in this case is\")\n",
    "    print(best_action)\n",
    "    board_ = board.get_action_result(best_action)\n",
    "    actions = list(board_.get_applicable_actions())\n",
    "    for i in range(len(actions)):\n",
    "        print(f\"{i} {actions[i]}\", sep = \"\\n\")\n",
    "    print()\n",
    "    selected_action_id = int(input(\"What did the opponent do? \"))\n",
    "    print()\n",
    "    board_ = board_.get_action_result(actions[selected_action_id])\n",
    "    play(board_)"
   ]
  },
  {
   "cell_type": "code",
   "execution_count": 55,
   "metadata": {},
   "outputs": [
    {
     "name": "stdout",
     "output_type": "stream",
     "text": [
      "Piece to place BB□\n",
      "    A    B    C    D\n",
      " 1 WS■  WB●   .    .   \n",
      " 2 BB■   .   WB■  BS○  \n",
      " 3  .    .    .   BS■  \n",
      " 4 WS○  BB●  WS□  WB□  \n",
      "\n",
      "\n",
      "\n",
      "Best action in this case is\n",
      "Place BB□ to (1, 1) and choose BS●\n",
      "0 Place BS● to (1, 2) and choose WS●\n",
      "1 Place BS● to (1, 2) and choose BS□\n",
      "2 Place BS● to (1, 2) and choose BB○\n",
      "3 Place BS● to (1, 2) and choose WB○\n",
      "4 Place BS● to (2, 0) and choose WS●\n",
      "5 Place BS● to (2, 0) and choose BS□\n",
      "6 Place BS● to (2, 0) and choose BB○\n",
      "7 Place BS● to (2, 0) and choose WB○\n",
      "8 Place BS● to (0, 2) and choose WS●\n",
      "9 Place BS● to (0, 2) and choose BS□\n",
      "10 Place BS● to (2, 2) and choose WS●\n",
      "11 Place BS● to (0, 2) and choose BB○\n",
      "12 Place BS● to (2, 2) and choose BS□\n",
      "13 Place BS● to (0, 2) and choose WB○\n",
      "14 Place BS● to (2, 2) and choose BB○\n",
      "15 Place BS● to (2, 2) and choose WB○\n",
      "16 Place BS● to (3, 0) and choose WS●\n",
      "17 Place BS● to (3, 0) and choose BS□\n",
      "18 Place BS● to (3, 0) and choose BB○\n",
      "19 Place BS● to (3, 0) and choose WB○\n",
      "\n"
     ]
    },
    {
     "ename": "KeyboardInterrupt",
     "evalue": "Interrupted by user",
     "output_type": "error",
     "traceback": [
      "\u001b[0;31m---------------------------------------------------------------------------\u001b[0m",
      "\u001b[0;31mKeyboardInterrupt\u001b[0m                         Traceback (most recent call last)",
      "\u001b[0;32m<ipython-input-55-d2f5666e0f93>\u001b[0m in \u001b[0;36m<module>\u001b[0;34m\u001b[0m\n\u001b[1;32m      1\u001b[0m \u001b[0mprint\u001b[0m\u001b[0;34m(\u001b[0m\u001b[0mboard\u001b[0m\u001b[0;34m)\u001b[0m\u001b[0;34m\u001b[0m\u001b[0;34m\u001b[0m\u001b[0m\n\u001b[0;32m----> 2\u001b[0;31m \u001b[0mplay\u001b[0m\u001b[0;34m(\u001b[0m\u001b[0mboard\u001b[0m\u001b[0;34m)\u001b[0m\u001b[0;34m\u001b[0m\u001b[0;34m\u001b[0m\u001b[0m\n\u001b[0m",
      "\u001b[0;32m<ipython-input-54-9ca16e2406ca>\u001b[0m in \u001b[0;36mplay\u001b[0;34m(board)\u001b[0m\n\u001b[1;32m      9\u001b[0m         \u001b[0mprint\u001b[0m\u001b[0;34m(\u001b[0m\u001b[0;34mf\"{i} {actions[i]}\"\u001b[0m\u001b[0;34m,\u001b[0m \u001b[0msep\u001b[0m \u001b[0;34m=\u001b[0m \u001b[0;34m\"\\n\"\u001b[0m\u001b[0;34m)\u001b[0m\u001b[0;34m\u001b[0m\u001b[0;34m\u001b[0m\u001b[0m\n\u001b[1;32m     10\u001b[0m     \u001b[0mprint\u001b[0m\u001b[0;34m(\u001b[0m\u001b[0;34m)\u001b[0m\u001b[0;34m\u001b[0m\u001b[0;34m\u001b[0m\u001b[0m\n\u001b[0;32m---> 11\u001b[0;31m     \u001b[0mselected_action_id\u001b[0m \u001b[0;34m=\u001b[0m \u001b[0mint\u001b[0m\u001b[0;34m(\u001b[0m\u001b[0minput\u001b[0m\u001b[0;34m(\u001b[0m\u001b[0;34m\"What did the opponent do? \"\u001b[0m\u001b[0;34m)\u001b[0m\u001b[0;34m)\u001b[0m\u001b[0;34m\u001b[0m\u001b[0;34m\u001b[0m\u001b[0m\n\u001b[0m\u001b[1;32m     12\u001b[0m     \u001b[0mprint\u001b[0m\u001b[0;34m(\u001b[0m\u001b[0;34m)\u001b[0m\u001b[0;34m\u001b[0m\u001b[0;34m\u001b[0m\u001b[0m\n\u001b[1;32m     13\u001b[0m     \u001b[0mboard_\u001b[0m \u001b[0;34m=\u001b[0m \u001b[0mboard_\u001b[0m\u001b[0;34m.\u001b[0m\u001b[0mget_action_result\u001b[0m\u001b[0;34m(\u001b[0m\u001b[0mactions\u001b[0m\u001b[0;34m[\u001b[0m\u001b[0mselected_action_id\u001b[0m\u001b[0;34m]\u001b[0m\u001b[0;34m)\u001b[0m\u001b[0;34m\u001b[0m\u001b[0;34m\u001b[0m\u001b[0m\n",
      "\u001b[0;32m~/opt/anaconda3/lib/python3.8/site-packages/ipykernel/kernelbase.py\u001b[0m in \u001b[0;36mraw_input\u001b[0;34m(self, prompt)\u001b[0m\n\u001b[1;32m    858\u001b[0m                 \u001b[0;34m\"raw_input was called, but this frontend does not support input requests.\"\u001b[0m\u001b[0;34m\u001b[0m\u001b[0;34m\u001b[0m\u001b[0m\n\u001b[1;32m    859\u001b[0m             )\n\u001b[0;32m--> 860\u001b[0;31m         return self._input_request(str(prompt),\n\u001b[0m\u001b[1;32m    861\u001b[0m             \u001b[0mself\u001b[0m\u001b[0;34m.\u001b[0m\u001b[0m_parent_ident\u001b[0m\u001b[0;34m,\u001b[0m\u001b[0;34m\u001b[0m\u001b[0;34m\u001b[0m\u001b[0m\n\u001b[1;32m    862\u001b[0m             \u001b[0mself\u001b[0m\u001b[0;34m.\u001b[0m\u001b[0m_parent_header\u001b[0m\u001b[0;34m,\u001b[0m\u001b[0;34m\u001b[0m\u001b[0;34m\u001b[0m\u001b[0m\n",
      "\u001b[0;32m~/opt/anaconda3/lib/python3.8/site-packages/ipykernel/kernelbase.py\u001b[0m in \u001b[0;36m_input_request\u001b[0;34m(self, prompt, ident, parent, password)\u001b[0m\n\u001b[1;32m    902\u001b[0m             \u001b[0;32mexcept\u001b[0m \u001b[0mKeyboardInterrupt\u001b[0m\u001b[0;34m:\u001b[0m\u001b[0;34m\u001b[0m\u001b[0;34m\u001b[0m\u001b[0m\n\u001b[1;32m    903\u001b[0m                 \u001b[0;31m# re-raise KeyboardInterrupt, to truncate traceback\u001b[0m\u001b[0;34m\u001b[0m\u001b[0;34m\u001b[0m\u001b[0;34m\u001b[0m\u001b[0m\n\u001b[0;32m--> 904\u001b[0;31m                 \u001b[0;32mraise\u001b[0m \u001b[0mKeyboardInterrupt\u001b[0m\u001b[0;34m(\u001b[0m\u001b[0;34m\"Interrupted by user\"\u001b[0m\u001b[0;34m)\u001b[0m \u001b[0;32mfrom\u001b[0m \u001b[0;32mNone\u001b[0m\u001b[0;34m\u001b[0m\u001b[0;34m\u001b[0m\u001b[0m\n\u001b[0m\u001b[1;32m    905\u001b[0m             \u001b[0;32mexcept\u001b[0m \u001b[0mException\u001b[0m \u001b[0;32mas\u001b[0m \u001b[0me\u001b[0m\u001b[0;34m:\u001b[0m\u001b[0;34m\u001b[0m\u001b[0;34m\u001b[0m\u001b[0m\n\u001b[1;32m    906\u001b[0m                 \u001b[0mself\u001b[0m\u001b[0;34m.\u001b[0m\u001b[0mlog\u001b[0m\u001b[0;34m.\u001b[0m\u001b[0mwarning\u001b[0m\u001b[0;34m(\u001b[0m\u001b[0;34m\"Invalid Message:\"\u001b[0m\u001b[0;34m,\u001b[0m \u001b[0mexc_info\u001b[0m\u001b[0;34m=\u001b[0m\u001b[0;32mTrue\u001b[0m\u001b[0;34m)\u001b[0m\u001b[0;34m\u001b[0m\u001b[0;34m\u001b[0m\u001b[0m\n",
      "\u001b[0;31mKeyboardInterrupt\u001b[0m: Interrupted by user"
     ]
    }
   ],
   "source": [
    "print(board)\n",
    "play(board)"
   ]
  },
  {
   "cell_type": "code",
   "execution_count": null,
   "metadata": {},
   "outputs": [],
   "source": []
  }
 ],
 "metadata": {
  "kernelspec": {
   "display_name": "Python 3",
   "language": "python",
   "name": "python3"
  },
  "language_info": {
   "codemirror_mode": {
    "name": "ipython",
    "version": 3
   },
   "file_extension": ".py",
   "mimetype": "text/x-python",
   "name": "python",
   "nbconvert_exporter": "python",
   "pygments_lexer": "ipython3",
   "version": "3.8.3"
  }
 },
 "nbformat": 4,
 "nbformat_minor": 4
}
