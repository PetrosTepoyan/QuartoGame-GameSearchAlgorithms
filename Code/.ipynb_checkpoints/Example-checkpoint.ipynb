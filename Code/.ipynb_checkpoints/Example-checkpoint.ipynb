{
 "cells": [
  {
   "cell_type": "code",
   "execution_count": 1,
   "metadata": {},
   "outputs": [],
   "source": [
    "from board import Board\n",
    "from boardTerminalTest import BoardTerminalTest\n",
    "from turn import Turn\n",
    "from search import AlphaBetaSearch\n",
    "from player import Player\n",
    "from piece import Piece\n",
    "import numpy as np"
   ]
  },
  {
   "cell_type": "code",
   "execution_count": 2,
   "metadata": {},
   "outputs": [
    {
     "data": {
      "text/plain": [
       "Piece to place BB□\n",
       "    A    B    C    D\n",
       " 1 BS●  BS□   .   BS■  \n",
       " 2 WS■   .   WB■  WB□  \n",
       " 3 BB●   .    .   BB■  \n",
       " 4 BS□  WS●   .   WB●  \n",
       "\n"
      ]
     },
     "execution_count": 2,
     "metadata": {},
     "output_type": "execute_result"
    }
   ],
   "source": [
    "grid_1 = np.array([[2, 9, -1, 1],\n",
    "                 [5, -1, 7, 15],\n",
    "                 [4, -1, -1, 3],\n",
    "                 [9, 6, -1, 8]])\n",
    "\n",
    "grid_2 = np.array([[-1, -1, -1, -1],\n",
    "                 [-1, 2, -1, -1],\n",
    "                 [-1, -1, -1, -1],\n",
    "                 [-1, -1, -1, -1]])\n",
    "game_turn = Turn(player = Player.MIN, piece_to_place = 11)\n",
    "almost_full_board = Board(grid = grid_1, game_turn = game_turn)\n",
    "started_board = Board(grid = grid_2, game_turn = game_turn)\n",
    "board = Board()\n",
    "terminalTest = BoardTerminalTest()\n",
    "almost_full_board"
   ]
  },
  {
   "cell_type": "code",
   "execution_count": 3,
   "metadata": {},
   "outputs": [],
   "source": [
    "search = AlphaBetaSearch(optimized = True)\n",
    "strategy = search.find_strategy(almost_full_board, terminalTest)"
   ]
  },
  {
   "cell_type": "code",
   "execution_count": 4,
   "metadata": {},
   "outputs": [],
   "source": [
    "actions = list(almost_full_board.get_applicable_actions())"
   ]
  },
  {
   "cell_type": "code",
   "execution_count": 5,
   "metadata": {},
   "outputs": [],
   "source": [
    "def get_applicable_actions(self):\n",
    "        actions = set()\n",
    "        \n",
    "        piece_to_place = self.game_turn.piece_to_place\n",
    "        current_player = self.get_player()\n",
    "        next_player = current_player.toggle()\n",
    "        all_pieces = set(range(1, 17))\n",
    "        remaining_pieces = all_pieces - {elem for row in self.grid for elem in row} - set([piece_to_place])\n",
    "\n",
    "        if piece_to_place == 0:\n",
    "            for remaining_piece in remaining_pieces:\n",
    "                turn = Turn(player = next_player,\n",
    "                            piece_to_place = remaining_piece,\n",
    "                            piece_coord = None,\n",
    "                            prev_turn = self.game_turn)\n",
    "\n",
    "                actions.add(turn)\n",
    "                \n",
    "        else :\n",
    "            for row in range(4):\n",
    "                for col in range(4):\n",
    "                    if self.check_position_availability(col, row):\n",
    "                        for remaining_piece in remaining_pieces:\n",
    "                            piece_to_place_coord = (col, row)\n",
    "                            turn = Turn(player = next_player,\n",
    "                                        piece_to_place = remaining_piece,\n",
    "                                        piece_coord = None,\n",
    "                                        prev_turn = self.game_turn.with_piece_coord_set(piece_to_place_coord))\n",
    "\n",
    "                            print(turn)\n",
    "                            \n",
    "                            actions.add(turn)\n",
    "                            \n",
    "        return actions"
   ]
  },
  {
   "cell_type": "code",
   "execution_count": 6,
   "metadata": {},
   "outputs": [
    {
     "name": "stdout",
     "output_type": "stream",
     "text": [
      "Adding turn Place BB□ to (2, 0) and choose BS○\n",
      "Adding turn Place BB□ to (2, 0) and choose BB○\n",
      "Adding turn Place BB□ to (2, 0) and choose WS□\n",
      "Adding turn Place BB□ to (2, 0) and choose WS○\n",
      "Adding turn Place BB□ to (2, 0) and choose WB○\n",
      "Adding turn Place BB□ to (1, 1) and choose BS○\n",
      "Adding turn Place BB□ to (1, 1) and choose BB○\n",
      "Adding turn Place BB□ to (1, 1) and choose WS□\n",
      "Adding turn Place BB□ to (1, 1) and choose WS○\n",
      "Adding turn Place BB□ to (1, 1) and choose WB○\n",
      "Adding turn Place BB□ to (1, 2) and choose BS○\n",
      "Adding turn Place BB□ to (1, 2) and choose BB○\n",
      "Adding turn Place BB□ to (1, 2) and choose WS□\n",
      "Adding turn Place BB□ to (1, 2) and choose WS○\n",
      "Adding turn Place BB□ to (1, 2) and choose WB○\n",
      "Adding turn Place BB□ to (2, 2) and choose BS○\n",
      "Adding turn Place BB□ to (2, 2) and choose BB○\n",
      "Adding turn Place BB□ to (2, 2) and choose WS□\n",
      "Adding turn Place BB□ to (2, 2) and choose WS○\n",
      "Adding turn Place BB□ to (2, 2) and choose WB○\n",
      "Adding turn Place BB□ to (2, 3) and choose BS○\n",
      "Adding turn Place BB□ to (2, 3) and choose BB○\n",
      "Adding turn Place BB□ to (2, 3) and choose WS□\n",
      "Adding turn Place BB□ to (2, 3) and choose WS○\n",
      "Adding turn Place BB□ to (2, 3) and choose WB○\n"
     ]
    },
    {
     "data": {
      "text/plain": [
       "{Place BB□ to (2, 3) and choose BB○,\n",
       " Place BB□ to (2, 3) and choose BB○,\n",
       " Place BB□ to (2, 3) and choose BB○,\n",
       " Place BB□ to (2, 3) and choose BB○,\n",
       " Place BB□ to (2, 3) and choose BB○,\n",
       " Place BB□ to (2, 3) and choose BS○,\n",
       " Place BB□ to (2, 3) and choose BS○,\n",
       " Place BB□ to (2, 3) and choose BS○,\n",
       " Place BB□ to (2, 3) and choose BS○,\n",
       " Place BB□ to (2, 3) and choose BS○,\n",
       " Place BB□ to (2, 3) and choose WB○,\n",
       " Place BB□ to (2, 3) and choose WB○,\n",
       " Place BB□ to (2, 3) and choose WB○,\n",
       " Place BB□ to (2, 3) and choose WB○,\n",
       " Place BB□ to (2, 3) and choose WB○,\n",
       " Place BB□ to (2, 3) and choose WS□,\n",
       " Place BB□ to (2, 3) and choose WS□,\n",
       " Place BB□ to (2, 3) and choose WS□,\n",
       " Place BB□ to (2, 3) and choose WS□,\n",
       " Place BB□ to (2, 3) and choose WS□,\n",
       " Place BB□ to (2, 3) and choose WS○,\n",
       " Place BB□ to (2, 3) and choose WS○,\n",
       " Place BB□ to (2, 3) and choose WS○,\n",
       " Place BB□ to (2, 3) and choose WS○,\n",
       " Place BB□ to (2, 3) and choose WS○}"
      ]
     },
     "execution_count": 6,
     "metadata": {},
     "output_type": "execute_result"
    }
   ],
   "source": [
    "get_applicable_actions(almost_full_board)"
   ]
  },
  {
   "cell_type": "code",
   "execution_count": null,
   "metadata": {},
   "outputs": [],
   "source": []
  }
 ],
 "metadata": {
  "kernelspec": {
   "display_name": "Python 3",
   "language": "python",
   "name": "python3"
  },
  "language_info": {
   "codemirror_mode": {
    "name": "ipython",
    "version": 3
   },
   "file_extension": ".py",
   "mimetype": "text/x-python",
   "name": "python",
   "nbconvert_exporter": "python",
   "pygments_lexer": "ipython3",
   "version": "3.8.3"
  }
 },
 "nbformat": 4,
 "nbformat_minor": 4
}
