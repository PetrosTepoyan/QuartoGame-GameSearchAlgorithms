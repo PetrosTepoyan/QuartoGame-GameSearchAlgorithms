{
 "cells": [
  {
   "cell_type": "code",
   "execution_count": 1,
   "metadata": {},
   "outputs": [],
   "source": [
    "from board import Board\n",
    "from boardTerminalTest import BoardTerminalTest\n",
    "from turn import Turn, TurnStage\n",
    "from search import AlphaBetaSearch, MinimaxSearch\n",
    "from player import Player\n",
    "from piece import *\n",
    "import numpy as np\n",
    "from numba import jit\n",
    "import sys"
   ]
  },
  {
   "cell_type": "code",
   "execution_count": 2,
   "metadata": {},
   "outputs": [
    {
     "name": "stdout",
     "output_type": "stream",
     "text": [
      "Piece to place BB□\n",
      "    A    B    C    D\n",
      " 1 WS■  WB●  BB○  BS□  \n",
      " 2 BB■  BS●  WB■  BS○  \n",
      " 3  .    .    .   BS■  \n",
      " 4 WS○  BB●  WS□  WB□  \n",
      "\n",
      "\n",
      "\n"
     ]
    }
   ],
   "source": [
    "# # Works correctly\n",
    "grid = np.array([[ 5,  8, 12,  9],\n",
    "                 [ 3,  2,  7, 10],\n",
    "                 [-1, -1, -1,  1],\n",
    "                 [14,  4, 13, 15]])\n",
    "\n",
    "game_turn = Turn(player = Player.MIN, placingStage = TurnStage(11, None))\n",
    "board = Board(grid = grid, game_turn = game_turn)\n",
    "terminalTest = BoardTerminalTest()\n",
    "print(board)\n",
    "\n"
   ]
  },
  {
   "cell_type": "code",
   "execution_count": 3,
   "metadata": {},
   "outputs": [],
   "source": [
    "search = MinimaxSearch(optimized = True)\n",
    "strategy = search.find_strategy(board, terminalTest)"
   ]
  },
  {
   "cell_type": "code",
   "execution_count": 4,
   "metadata": {},
   "outputs": [],
   "source": [
    "action1 = strategy[board]\n",
    "board2 = board.get_action_result(action1)\n",
    "action2 = strategy[board2]\n",
    "board3 = board2.get_action_result(action2)\n",
    "action3 = strategy[board3]\n",
    "board4 = board3.get_action_result(action3)"
   ]
  },
  {
   "cell_type": "code",
   "execution_count": 26,
   "metadata": {},
   "outputs": [],
   "source": [
    "def play(board):\n",
    "    board_ = board\n",
    "    best_action = strategy[board_]\n",
    "    board_ = board.get_action_result(best_action)\n",
    "    actions = list(board_.get_applicable_actions())\n",
    "    for i in range(len(actions)):\n",
    "        print(f\"{i} {actions[i]}\", sep = \"\\n\")\n",
    "    input(\"What did the opponent do? \")"
   ]
  },
  {
   "cell_type": "code",
   "execution_count": 27,
   "metadata": {},
   "outputs": [
    {
     "name": "stdout",
     "output_type": "stream",
     "text": [
      "0 Place WS● to (2, 2) and choose WB○\n",
      "1 Place WS● to (0, 2) and choose WB○\n",
      "What did the opponent do?1\n"
     ]
    }
   ],
   "source": [
    "play(board)"
   ]
  },
  {
   "cell_type": "code",
   "execution_count": null,
   "metadata": {},
   "outputs": [],
   "source": []
  }
 ],
 "metadata": {
  "kernelspec": {
   "display_name": "Python 3",
   "language": "python",
   "name": "python3"
  },
  "language_info": {
   "codemirror_mode": {
    "name": "ipython",
    "version": 3
   },
   "file_extension": ".py",
   "mimetype": "text/x-python",
   "name": "python",
   "nbconvert_exporter": "python",
   "pygments_lexer": "ipython3",
   "version": "3.8.3"
  }
 },
 "nbformat": 4,
 "nbformat_minor": 4
}
