{
 "cells": [
  {
   "cell_type": "code",
   "execution_count": 1,
   "metadata": {},
   "outputs": [],
   "source": [
    "from board import Board\n",
    "from boardTerminalTest import BoardTerminalTest\n",
    "from turn import Turn\n",
    "from search import AlphaBetaSearch\n",
    "from player import Player\n",
    "from piece import Piece\n",
    "import numpy as np"
   ]
  },
  {
   "cell_type": "code",
   "execution_count": 2,
   "metadata": {},
   "outputs": [
    {
     "data": {
      "text/plain": [
       "Piece to place BB□\n",
       "    A    B    C    D\n",
       " 1 BS●  BS□   .   BS■  \n",
       " 2 WS■   .   WB■  WB□  \n",
       " 3 BB●   .    .   BB■  \n",
       " 4 BS□  WS●   .   WB●  \n",
       "\n"
      ]
     },
     "execution_count": 2,
     "metadata": {},
     "output_type": "execute_result"
    }
   ],
   "source": [
    "grid = np.array([[2, 9, -1, 1],\n",
    "                 [5, -1, 7, 15],\n",
    "                 [4, -1, -1, 3],\n",
    "                 [9, 6, -1, 8]])\n",
    "\n",
    "game_turn = Turn(player = Player.MIN, piece_to_place = 11)\n",
    "board = Board(grid = grid, game_turn = game_turn)\n",
    "terminalTest = BoardTerminalTest()\n",
    "board"
   ]
  },
  {
   "cell_type": "code",
   "execution_count": 3,
   "metadata": {},
   "outputs": [],
   "source": [
    "search = AlphaBetaSearch(optimized = True)\n",
    "strategy = search.find_strategy(board, terminalTest)"
   ]
  },
  {
   "cell_type": "code",
   "execution_count": 4,
   "metadata": {},
   "outputs": [
    {
     "data": {
      "text/plain": [
       "Player: Player.MIN, \n",
       "Piece to place: BB□, \n",
       "Piece coordinate: (1, 2) \n"
      ]
     },
     "execution_count": 4,
     "metadata": {},
     "output_type": "execute_result"
    }
   ],
   "source": [
    "actions = list(board.get_applicable_actions())\n",
    "best_action = strategy[board]\n",
    "best_action"
   ]
  }
 ],
 "metadata": {
  "kernelspec": {
   "display_name": "Python 3",
   "language": "python",
   "name": "python3"
  },
  "language_info": {
   "codemirror_mode": {
    "name": "ipython",
    "version": 3
   },
   "file_extension": ".py",
   "mimetype": "text/x-python",
   "name": "python",
   "nbconvert_exporter": "python",
   "pygments_lexer": "ipython3",
   "version": "3.8.3"
  }
 },
 "nbformat": 4,
 "nbformat_minor": 4
}
