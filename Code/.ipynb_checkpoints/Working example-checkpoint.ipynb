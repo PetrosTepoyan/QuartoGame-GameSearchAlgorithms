{
 "cells": [
  {
   "cell_type": "code",
   "execution_count": 1,
   "metadata": {},
   "outputs": [],
   "source": [
    "from board import Board\n",
    "from boardTerminalTest import BoardTerminalTest\n",
    "from turn import Turn, TurnStage\n",
    "from search import AlphaBetaSearch\n",
    "from player import Player\n",
    "from piece import *\n",
    "import numpy as np"
   ]
  },
  {
   "cell_type": "code",
   "execution_count": 2,
   "metadata": {},
   "outputs": [],
   "source": [
    "# # Works correctly\n",
    "# grid = np.array([[2, 16, -1, 1],\n",
    "#                  [5, -1, 7, -1],\n",
    "#                  [4, -1, -1, 3],\n",
    "#                  [9, 6, -1, 8]])\n",
    "\n",
    "# game_turn = Turn(player = Player.MIN, placingStage = TurnStage(11, None))\n",
    "# board = Board(grid = grid, game_turn = game_turn)\n",
    "# terminalTest = BoardTerminalTest()\n",
    "# print(board)\n",
    "# search = AlphaBetaSearch(optimized = True)\n",
    "# strategy = search.find_strategy(board, terminalTest)\n",
    "# actions = list(board.get_applicable_actions())\n",
    "# best_action = strategy[board]\n",
    "# best_action"
   ]
  },
  {
   "cell_type": "code",
   "execution_count": 18,
   "metadata": {},
   "outputs": [
    {
     "data": {
      "text/plain": [
       "(array([0, 1, 1, 2, 2, 3]), array([2, 1, 3, 1, 2, 2]))"
      ]
     },
     "execution_count": 18,
     "metadata": {},
     "output_type": "execute_result"
    }
   ],
   "source": [
    "grid_1 = np.array([[2, 16, 0, 1],\n",
    "                 [5, 0, 7, 0],\n",
    "                 [4, 0, 0, 3],\n",
    "                 [9, 6, 0, 8]])\n",
    "\n",
    "np.where(grid == EMPTY_POSITION)"
   ]
  },
  {
   "cell_type": "code",
   "execution_count": 17,
   "metadata": {},
   "outputs": [],
   "source": [
    "GRID_SIZE = 4\n",
    "EMPTY_POSITION = -1\n",
    "def get_applicable_actions(self):\n",
    "        actions = set()\n",
    "        \n",
    "        piece_to_place = self.game_turn.placingStage.piece\n",
    "        current_player = self.get_player()\n",
    "        next_player = current_player.toggle()\n",
    "        all_pieces = set(range(1, 17))\n",
    "        remaining_pieces = all_pieces - {elem for row in self.grid for elem in row} - set([piece_to_place])\n",
    "\n",
    "\n",
    "        # optimize with numpy as np.where\n",
    "        if piece_to_place == 0:\n",
    "            for remaining_piece in remaining_pieces:\n",
    "\n",
    "                placingStage = None\n",
    "                            \n",
    "                choosingStage = TurnStage(remaining_piece, None)\n",
    "\n",
    "                turn = Turn(player = next_player, placingStage = placingStage, choosingStage = choosingStage)\n",
    "\n",
    "                actions.add(turn)\n",
    "        \n",
    "        # optimize with numpy as np.where\n",
    "        elif len(remaining_pieces) != 0:\n",
    "            \n",
    "            for row in range(GRID_SIZE):\n",
    "                for col in range(GRID_SIZE):\n",
    "                    if self.check_position_availability(col, row):\n",
    "                        for remaining_piece in remaining_pieces:\n",
    "                            piece_to_place_coord = (col, row)\n",
    "\n",
    "                            placingStage = TurnStage(piece_to_place, piece_to_place_coord)\n",
    "                            \n",
    "                            choosingStage = TurnStage(remaining_piece, None)\n",
    "\n",
    "                            turn = Turn(player = next_player, placingStage = placingStage, choosingStage = choosingStage)\n",
    "\n",
    "                            actions.add(turn)\n",
    "        else:\n",
    "            \n",
    "            empty_pos_coord = np.where(self.grid == EMPTY_POSITION)\n",
    "\n",
    "            row, col = empty_pos_coord[0][0], empty_pos_coord[1][0]\n",
    "\n",
    "            piece_to_place_coord = (col, row)\n",
    "\n",
    "            placingStage = TurnStage(piece_to_place, piece_to_place_coord)\n",
    "            \n",
    "            choosingStage = None\n",
    "\n",
    "            turn = Turn(player = next_player, placingStage = placingStage, choosingStage = choosingStage)\n",
    "            actions.add(turn)\n",
    "                            \n",
    "        return actions"
   ]
  },
  {
   "cell_type": "code",
   "execution_count": 7,
   "metadata": {},
   "outputs": [],
   "source": [
    "grid = np.array([[2, 16, -1, 1],\n",
    "                 [5, -1, 7, -1],\n",
    "                 [4, -1, -1, 3],\n",
    "                 [9, 6, -1, 8]])\n",
    "\n",
    "game_turn = Turn(player = Player.MIN, placingStage = TurnStage(11, None))\n",
    "board = Board(grid = grid, game_turn = game_turn)"
   ]
  },
  {
   "cell_type": "code",
   "execution_count": 10,
   "metadata": {},
   "outputs": [
    {
     "name": "stdout",
     "output_type": "stream",
     "text": [
      "CPU times: user 205 µs, sys: 1e+03 ns, total: 206 µs\n",
      "Wall time: 211 µs\n"
     ]
    }
   ],
   "source": [
    "%%time\n",
    "actions = get_applicable_actions(board)"
   ]
  },
  {
   "cell_type": "markdown",
   "metadata": {},
   "source": [
    "CPU times: user 205 µs, sys: 1e+03 ns, total: 206 µs\n",
    "\n",
    "Wall time: 211 µs"
   ]
  },
  {
   "cell_type": "code",
   "execution_count": null,
   "metadata": {},
   "outputs": [],
   "source": []
  }
 ],
 "metadata": {
  "kernelspec": {
   "display_name": "Python 3",
   "language": "python",
   "name": "python3"
  },
  "language_info": {
   "codemirror_mode": {
    "name": "ipython",
    "version": 3
   },
   "file_extension": ".py",
   "mimetype": "text/x-python",
   "name": "python",
   "nbconvert_exporter": "python",
   "pygments_lexer": "ipython3",
   "version": "3.8.3"
  }
 },
 "nbformat": 4,
 "nbformat_minor": 4
}
